{
 "cells": [
  {
   "cell_type": "code",
   "execution_count": 1,
   "metadata": {
    "collapsed": true
   },
   "outputs": [],
   "source": [
    "import cytoolz as tlz"
   ]
  },
  {
   "cell_type": "code",
   "execution_count": 2,
   "metadata": {
    "collapsed": true
   },
   "outputs": [],
   "source": [
    "from h_topic_model import segment as seg"
   ]
  },
  {
   "cell_type": "code",
   "execution_count": 3,
   "metadata": {
    "collapsed": false
   },
   "outputs": [],
   "source": [
    "from morphoff import mkfcatmodel as mkmodel\n",
    "from morphoff import fcatsegment as fseg"
   ]
  },
  {
   "cell_type": "code",
   "execution_count": 14,
   "metadata": {
    "collapsed": true
   },
   "outputs": [],
   "source": [
    "mmodel = seg.load_morfessor_model(\"/Users/steven_c/projects/h_topic_model/data/toy50k/newmorf/morfessor_model.bin\")"
   ]
  },
  {
   "cell_type": "code",
   "execution_count": 10,
   "metadata": {
    "collapsed": true
   },
   "outputs": [],
   "source": [
    "fmodel = fseg.load_flatcat_model(\"/Users/steven_c/projects/h_topic_model/data/toy50k/mini/flatcat_model.tar.gz\")"
   ]
  },
  {
   "cell_type": "markdown",
   "metadata": {},
   "source": [
    "---"
   ]
  },
  {
   "cell_type": "code",
   "execution_count": 11,
   "metadata": {
    "collapsed": false
   },
   "outputs": [],
   "source": [
    "with open(\"/Users/steven_c/projects/h_topic_model/data/toy50k/toy50k/1.1591651.txt.iso\") as f:\n",
    "    txt = f.read()"
   ]
  },
  {
   "cell_type": "code",
   "execution_count": 19,
   "metadata": {
    "collapsed": false
   },
   "outputs": [
    {
     "data": {
      "text/plain": [
       "[(['\\xd7\\xa9\\xd7\\xa0\\xd7\\x99'], 99.07186290596243),\n",
       " (['\\xd7\\x9e\\xd7\\x98\\xd7\\x99\\xd7\\x99\\xd7\\x9c\\xd7\\x99\\xd7\\x9d'],\n",
       "  194.65354183907843),\n",
       " (['\\xd7\\x99\\xd7\\xa9\\xd7\\xa8\\xd7\\x90\\xd7\\x9c\\xd7\\x99\\xd7\\x9d'],\n",
       "  194.65354183907843),\n",
       " (['\\xd7\\xa9\\xd7\\x99\\xd7\\xa6\\xd7\\x90\\xd7\\x95'], 146.8625987841548),\n",
       " (['\\xd7\\x9c\\xd7\\x98\\xd7\\xa8\\xd7\\xa7'], 122.96720494746421),\n",
       " (['\\xd7\\x91\\xd7\\x91\\xd7\\x95\\xd7\\x9c\\xd7\\x99\\xd7\\x91\\xd7\\x99\\xd7\\x94'],\n",
       "  218.5490910552995),\n",
       " (['\\xd7\\xa0\\xd7\\xa2\\xd7\\x93\\xd7\\xa8\\xd7\\x99\\xd7\\x9d'], 170.75804441502822),\n",
       " ['.'],\n",
       " (['\\xd7\\x94\\xd7\\xa9\\xd7\\xa0\\xd7\\x99\\xd7\\x99\\xd7\\x9d'], 170.75804441502822),\n",
       " (['\\xd7\\x94\\xd7\\x99\\xd7\\x95'], 99.07186290596243),\n",
       " (['\\xd7\\x90\\xd7\\x9e\\xd7\\x95\\xd7\\xa8\\xd7\\x99\\xd7\\x9d'], 170.75804441502822),\n",
       " (['\\xd7\\x9c\\xd7\\xa1\\xd7\\x99\\xd7\\x99\\xd7\\x9d'], 146.8625987841548),\n",
       " (['\\xd7\\x90\\xd7\\xaa'], 75.17657266065555),\n",
       " (['\\xd7\\x94\\xd7\\x98\\xd7\\xa8\\xd7\\xa7'], 122.96720494746421),\n",
       " (['\\xd7\\x9c\\xd7\\xa4\\xd7\\xa0\\xd7\\x99'], 122.96720494746421),\n",
       " (['\\xd7\\x9b\\xd7\\x9e\\xd7\\x94'], 99.07186290596243),\n",
       " (['\\xd7\\x99\\xd7\\x9e\\xd7\\x99\\xd7\\x9d'], 122.96720494746421),\n",
       " [','],\n",
       " (['\\xd7\\x90\\xd7\\x9a'], 75.17657266065555),\n",
       " (['\\xd7\\x9c\\xd7\\x90'], 75.17657266065555),\n",
       " (['\\xd7\\x99\\xd7\\xa6\\xd7\\xa8\\xd7\\x95'], 122.96720494746421),\n",
       " (['\\xd7\\xa7\\xd7\\xa9\\xd7\\xa8'], 99.07186290596243),\n",
       " (['\\xd7\\xa2\\xd7\\x9d'], 75.17657266065555),\n",
       " (['\\xd7\\x9e\\xd7\\xa9\\xd7\\xa4\\xd7\\x97\\xd7\\x95\\xd7\\xaa\\xd7\\x99\\xd7\\x94\\xd7\\x9d'],\n",
       "  242.4446920626855),\n",
       " ['.'],\n",
       " (['\\xd7\\x91\\xd7\\xa0\\xd7\\x99'], 99.07186290596243),\n",
       " (['\\xd7\\x94\\xd7\\x9e\\xd7\\xa9\\xd7\\xa4\\xd7\\x97\\xd7\\x94'], 170.75804441502822),\n",
       " (['\\xd7\\x94\\xd7\\x9e\\xd7\\x95\\xd7\\x93\\xd7\\x90\\xd7\\x92\\xd7\\x99\\xd7\\x9d'],\n",
       "  218.5490910552995),\n",
       " (['\\xd7\\x99\\xd7\\xa6\\xd7\\xa8\\xd7\\x95'], 122.96720494746421),\n",
       " (['\\xd7\\xa7\\xd7\\xa9\\xd7\\xa8'], 99.07186290596243),\n",
       " (['\\xd7\\xa2\\xd7\\x9d'], 75.17657266065555),\n",
       " (['\\xd7\\x97\\xd7\\x91\\xd7\\xa8\\xd7\\xaa'], 122.96720494746421),\n",
       " (['\\xd7\\x9b\\xd7\\x9c\\xd7\\x9c'], 99.07186290596243),\n",
       " (['\\xd7\\x91\\xd7\\xa8\\xd7\\x99\\xd7\\x90\\xd7\\x95\\xd7\\xaa'], 170.75804441502822),\n",
       " [','],\n",
       " (['\\xd7\\x91\\xd7\\x94'], 75.17657266065555),\n",
       " (['\\xd7\\x9e\\xd7\\x91\\xd7\\x95\\xd7\\x98\\xd7\\x97\\xd7\\x99\\xd7\\x9d'],\n",
       "  194.65354183907843),\n",
       " (['\\xd7\\x94\\xd7\\xa9\\xd7\\xa0\\xd7\\x99\\xd7\\x99\\xd7\\x9d'], 170.75804441502822),\n",
       " [','],\n",
       " (['\\xd7\\x95\\xd7\\xa6\\xd7\\x95\\xd7\\x95\\xd7\\xaa'], 146.8625987841548),\n",
       " (['\\xd7\\x97\\xd7\\x99\\xd7\\x9c\\xd7\\x95\\xd7\\xa5'], 146.8625987841548),\n",
       " (['\\xd7\\xa9\\xd7\\x9c'], 75.17657266065555),\n",
       " (['\\xd7\\x97\\xd7\\x91\\xd7\\xa8\\xd7\\xaa'], 122.96720494746421),\n",
       " (['\\xd7\\xa1\\xd7\\x99\\xd7\\x98\\xd7\\x9c'], 122.96720494746421),\n",
       " (['\\xd7\\x91\\xd7\\x99\\xd7\\xa0\\xd7\\x9c\\xd7\\x90\\xd7\\x95\\xd7\\x9e\\xd7\\x99'],\n",
       "  218.5490910552995),\n",
       " (['\\xd7\\x9b\\xd7\\x91\\xd7\\xa8'], 99.07186290596243),\n",
       " (['\\xd7\\xa0\\xd7\\x9e\\xd7\\xa6\\xd7\\x90'], 122.96720494746421),\n",
       " (['\\xd7\\x91\\xd7\\x91\\xd7\\x95\\xd7\\x9c\\xd7\\x99\\xd7\\x91\\xd7\\x99\\xd7\\x94'],\n",
       "  218.5490910552995),\n",
       " (['\\xd7\\x91\\xd7\\xa0\\xd7\\x99\\xd7\\xa1\\xd7\\x99\\xd7\\x95\\xd7\\x9f'],\n",
       "  194.65354183907843),\n",
       " (['\\xd7\\x9c\\xd7\\x90\\xd7\\xaa\\xd7\\xa8\\xd7\\x9d'], 146.8625987841548),\n",
       " (['\\xd7\\x9e\\xd7\\x97\\xd7\\x91\\xd7\\xa8\\xd7\\xaa'], 146.8625987841548),\n",
       " (['\\xd7\\x9b\\xd7\\x9c\\xd7\\x9c'], 99.07186290596243),\n",
       " (['\\xd7\\x91\\xd7\\xa8\\xd7\\x99\\xd7\\x90\\xd7\\x95\\xd7\\xaa'], 170.75804441502822),\n",
       " (['\\xd7\\xa0\\xd7\\x9e\\xd7\\xa1\\xd7\\xa8'], 122.96720494746421),\n",
       " (['\\xd7\\x9b\\xd7\\x99'], 75.17657266065555),\n",
       " (['\\xd7\\xa6\\xd7\\x95\\xd7\\x95\\xd7\\xaa'], 122.96720494746421),\n",
       " (['\\xd7\\x94\\xd7\\x97\\xd7\\x99\\xd7\\x9c\\xd7\\x95\\xd7\\xa5'], 170.75804441502822),\n",
       " (['\\xd7\\xa9\\xd7\\x9c'], 75.17657266065555),\n",
       " (['\\xd7\\x94\\xd7\\x97\\xd7\\x91\\xd7\\xa8\\xd7\\x94'], 146.8625987841548),\n",
       " (['\\xd7\\xa4\\xd7\\x95\\xd7\\xa2\\xd7\\x9c'], 122.96720494746421),\n",
       " (['\\xd7\\x91\\xd7\\x9e\\xd7\\xa7\\xd7\\x95\\xd7\\x9d'], 146.8625987841548),\n",
       " (['\\xd7\\x91\\xd7\\xa1\\xd7\\x99\\xd7\\x95\\xd7\\xa2'], 146.8625987841548),\n",
       " (['\\xd7\\x95\\xd7\\xaa\\xd7\\x99\\xd7\\x90\\xd7\\x95\\xd7\\x9d'], 170.75804441502822),\n",
       " (['\\xd7\\xa2\\xd7\\x9d'], 75.17657266065555),\n",
       " (['\\xd7\\x94\\xd7\\xa9\\xd7\\x92\\xd7\\xa8\\xd7\\x99\\xd7\\xa8\\xd7\\x95\\xd7\\xaa'],\n",
       "  218.5490910552995),\n",
       " (['\\xd7\\x94\\xd7\\x99\\xd7\\xa9\\xd7\\xa8\\xd7\\x90\\xd7\\x9c\\xd7\\x99\\xd7\\xaa'],\n",
       "  218.5490910552995),\n",
       " (['\\xd7\\x95\\xd7\\xa2\\xd7\\x9d'], 99.07186290596243),\n",
       " (['\\xd7\\x94\\xd7\\xa9\\xd7\\x9c\\xd7\\x98\\xd7\\x95\\xd7\\xa0\\xd7\\x95\\xd7\\xaa'],\n",
       "  218.5490910552995),\n",
       " (['\\xd7\\x94\\xd7\\x9e\\xd7\\xa7\\xd7\\x95\\xd7\\x9e\\xd7\\x99\\xd7\\x99\\xd7\\x9d'],\n",
       "  218.5490910552995),\n",
       " (['\\xd7\\x95\\xd7\\xa2\\xd7\\x9d'], 99.07186290596243),\n",
       " (['\\xd7\\x90\\xd7\\xa0\\xd7\\xa9\\xd7\\x99'], 122.96720494746421),\n",
       " (['\\xd7\\x97\\xd7\\x99\\xd7\\x9c\\xd7\\x95\\xd7\\xa5'], 146.8625987841548),\n",
       " (['\\xd7\\x9e\\xd7\\xa7\\xd7\\x95\\xd7\\x9e\\xd7\\x99\\xd7\\x99\\xd7\\x9d'],\n",
       "  194.65354183907843),\n",
       " (['\\xd7\\x94\\xd7\\x9e\\xd7\\x9b\\xd7\\x99\\xd7\\xa8\\xd7\\x99\\xd7\\x9d'],\n",
       "  194.65354183907843),\n",
       " (['\\xd7\\x94\\xd7\\x99\\xd7\\x98\\xd7\\x91'], 122.96720494746421),\n",
       " (['\\xd7\\x90\\xd7\\xaa'], 75.17657266065555),\n",
       " (['\\xd7\\x94\\xd7\\xa9\\xd7\\x98\\xd7\\x97'], 122.96720494746421),\n",
       " ['.'],\n",
       " (['\\xd7\\xa2\\xd7\\x95\\xd7\\x93'], 99.07186290596243),\n",
       " (['\\xd7\\x9e\\xd7\\xa1\\xd7\\xa8\\xd7\\x94'], 122.96720494746421),\n",
       " (['\\xd7\\x94\\xd7\\x97\\xd7\\x91\\xd7\\xa8\\xd7\\x94'], 146.8625987841548),\n",
       " (['\\xd7\\x9b\\xd7\\x99'], 75.17657266065555),\n",
       " (['\\xd7\\x91\\xd7\\x90\\xd7\\x96\\xd7\\x95\\xd7\\xa8'], 146.8625987841548),\n",
       " (['\\xd7\\xa9\\xd7\\x95\\xd7\\xa8\\xd7\\xa8\\xd7\\x99\\xd7\\x9d'], 170.75804441502822),\n",
       " (['\\xd7\\xaa\\xd7\\xa0\\xd7\\x90\\xd7\\x99'], 122.96720494746421),\n",
       " (['\\xd7\\x9e\\xd7\\x96\\xd7\\x92'], 99.07186290596243),\n",
       " (['\\xd7\\x90\\xd7\\x95\\xd7\\x95\\xd7\\x99\\xd7\\xa8'], 146.8625987841548),\n",
       " (['\\xd7\\xa7\\xd7\\xa9\\xd7\\x99\\xd7\\x9d'], 122.96720494746421),\n",
       " [','],\n",
       " (['\\xd7\\x95\\xd7\\x94\\xd7\\x92\\xd7\\xa9\\xd7\\x9e\\xd7\\x99\\xd7\\x9d'],\n",
       "  194.65354183907843),\n",
       " (['\\xd7\\x94\\xd7\\xa2\\xd7\\x96\\xd7\\x99\\xd7\\x9d'], 146.8625987841548),\n",
       " (['\\xd7\\x9e\\xd7\\xa7\\xd7\\xa9\\xd7\\x99\\xd7\\x9d'], 146.8625987841548),\n",
       " (['\\xd7\\xa2\\xd7\\x9c'], 75.17657266065555),\n",
       " (['\\xd7\\x94\\xd7\\x97\\xd7\\x99\\xd7\\xa4\\xd7\\x95\\xd7\\xa9\\xd7\\x99\\xd7\\x9d'],\n",
       "  218.5490910552995),\n",
       " (['\\xd7\\x9c\\xd7\\x90\\xd7\\x95\\xd7\\xa8'], 122.96720494746421),\n",
       " (['\\xd7\\xa4\\xd7\\xa8\\xd7\\xa7'], 99.07186290596243),\n",
       " (['\\xd7\\x94\\xd7\\x96\\xd7\\x9e\\xd7\\x9f'], 122.96720494746421),\n",
       " (['\\xd7\\xa9\\xd7\\x97\\xd7\\x9c\\xd7\\xa3'], 122.96720494746421),\n",
       " (['\\xd7\\x92\\xd7\\x95\\xd7\\x91\\xd7\\xa8'], 122.96720494746421),\n",
       " (['\\xd7\\x94\\xd7\\x97\\xd7\\xa9\\xd7\\xa9'], 122.96720494746421),\n",
       " (['\\xd7\\x95\\xd7\\x94\\xd7\\x93\\xd7\\x90\\xd7\\x92\\xd7\\x94'], 170.75804441502822),\n",
       " (['\\xd7\\x9c\\xd7\\xa9\\xd7\\x9c\\xd7\\x95\\xd7\\x9e\\xd7\\x9d'], 170.75804441502822),\n",
       " (['\\xd7\\xa9\\xd7\\x9c'], 75.17657266065555),\n",
       " (['\\xd7\\x94\\xd7\\xa9\\xd7\\xa0\\xd7\\x99\\xd7\\x99\\xd7\\x9d'], 170.75804441502822),\n",
       " [','],\n",
       " (['\\xd7\\x97\\xd7\\x91\\xd7\\xa8\\xd7\\xaa'], 122.96720494746421),\n",
       " (['\\xd7\\x9b\\xd7\\x9c\\xd7\\x9c'], 99.07186290596243),\n",
       " (['\\xd7\\x91\\xd7\\xa8\\xd7\\x99\\xd7\\x90\\xd7\\x95\\xd7\\xaa'], 170.75804441502822),\n",
       " (['\\xd7\\x94\\xd7\\x97\\xd7\\x9c\\xd7\\x99\\xd7\\x98\\xd7\\x94'], 170.75804441502822),\n",
       " (['\\xd7\\x9c\\xd7\\xaa\\xd7\\x92\\xd7\\x91\\xd7\\xa8'], 146.8625987841548),\n",
       " (['\\xd7\\x90\\xd7\\xaa'], 75.17657266065555),\n",
       " (['\\xd7\\x94\\xd7\\xa6\\xd7\\x95\\xd7\\x95\\xd7\\xaa'], 146.8625987841548),\n",
       " (['\\xd7\\x94\\xd7\\xa4\\xd7\\x95\\xd7\\xa2\\xd7\\x9c'], 146.8625987841548),\n",
       " (['\\xd7\\x9b\\xd7\\x91\\xd7\\xa8'], 99.07186290596243),\n",
       " (['\\xd7\\x9e\\xd7\\x98\\xd7\\xa2\\xd7\\x9e\\xd7\\x94'], 146.8625987841548),\n",
       " (['\\xd7\\x91\\xd7\\xa9\\xd7\\x98\\xd7\\x97'], 122.96720494746421),\n",
       " (['\\xd7\\x95\\xd7\\x9c\\xd7\\xa9\\xd7\\x92\\xd7\\xa8'], 146.8625987841548),\n",
       " (['\\xd7\\x90\\xd7\\xa0\\xd7\\xa9\\xd7\\x99'], 122.96720494746421),\n",
       " (['\\xd7\\x97\\xd7\\x99\\xd7\\x9c\\xd7\\x95\\xd7\\xa5'], 146.8625987841548),\n",
       " (['\\xd7\\xa0\\xd7\\x95\\xd7\\xa1\\xd7\\xa4\\xd7\\x99\\xd7\\x9d'], 170.75804441502822),\n",
       " (['\\xd7\\xa9\\xd7\\x99\\xd7\\xa6\\xd7\\x90\\xd7\\x95'], 146.8625987841548),\n",
       " (['\\xd7\\x91\\xd7\\x9e\\xd7\\x94\\xd7\\x9c\\xd7\\x9a'], 146.8625987841548),\n",
       " (['\\xd7\\x94\\xd7\\x9c\\xd7\\x99\\xd7\\x9c\\xd7\\x94'], 146.8625987841548),\n",
       " (['\\xd7\\x9c\\xd7\\x9c\\xd7\\x94'], 99.07186290596243),\n",
       " (['\\xd7\\xa4\\xd7\\x90\\xd7\\xa1'], 99.07186290596243),\n",
       " (['\\xd7\\x95\\xd7\\x9e\\xd7\\x9e\\xd7\\xa0\\xd7\\x94'], 146.8625987841548),\n",
       " (['\\xd7\\x9c\\xd7\\x96\\xd7\\x99\\xd7\\xa8\\xd7\\xaa'], 146.8625987841548),\n",
       " (['\\xd7\\x94\\xd7\\x97\\xd7\\x99\\xd7\\xa4\\xd7\\x95\\xd7\\xa9\\xd7\\x99\\xd7\\x9d'],\n",
       "  218.5490910552995),\n",
       " (['\\xd7\\xa4\\xd7\\x99\\xd7\\x99\\xd7\\xa1\\xd7\\x91\\xd7\\x95\\xd7\\xa7'],\n",
       "  194.65354183907843),\n",
       " (['\\xd7\\x98\\xd7\\x95\\xd7\\x95\\xd7\\x99\\xd7\\x98\\xd7\\xa8'], 170.75804441502822),\n",
       " (['\\xd7\\x92\\xd7\\x95\\xd7\\x92\\xd7\\x9c'], 122.96720494746421),\n",
       " (['\\xd7\\xa4\\xd7\\x9c\\xd7\\x95\\xd7\\xa1'], 122.96720494746421)]"
      ]
     },
     "execution_count": 19,
     "metadata": {},
     "output_type": "execute_result"
    }
   ],
   "source": [
    "seg.segment_text(mmodel, txt, flatten=False)"
   ]
  },
  {
   "cell_type": "code",
   "execution_count": 17,
   "metadata": {
    "collapsed": false,
    "scrolled": true
   },
   "outputs": [
    {
     "data": {
      "text/plain": [
       "[list,\n",
       " list,\n",
       " list,\n",
       " list,\n",
       " list,\n",
       " list,\n",
       " list,\n",
       " str,\n",
       " list,\n",
       " list,\n",
       " list,\n",
       " list,\n",
       " list,\n",
       " list,\n",
       " list,\n",
       " list,\n",
       " list,\n",
       " str,\n",
       " list,\n",
       " list,\n",
       " list,\n",
       " list,\n",
       " list,\n",
       " list,\n",
       " str,\n",
       " list,\n",
       " list,\n",
       " list,\n",
       " list,\n",
       " list,\n",
       " list,\n",
       " list,\n",
       " list,\n",
       " list,\n",
       " str,\n",
       " list,\n",
       " list,\n",
       " list,\n",
       " str,\n",
       " list,\n",
       " list,\n",
       " list,\n",
       " list,\n",
       " list,\n",
       " list,\n",
       " list,\n",
       " list,\n",
       " list,\n",
       " list,\n",
       " list,\n",
       " list,\n",
       " list,\n",
       " list,\n",
       " list,\n",
       " list,\n",
       " list,\n",
       " list,\n",
       " list,\n",
       " list,\n",
       " list,\n",
       " list,\n",
       " list,\n",
       " list,\n",
       " list,\n",
       " list,\n",
       " list,\n",
       " list,\n",
       " list,\n",
       " list,\n",
       " list,\n",
       " list,\n",
       " list,\n",
       " list,\n",
       " list,\n",
       " list,\n",
       " list,\n",
       " list,\n",
       " str,\n",
       " list,\n",
       " list,\n",
       " list,\n",
       " list,\n",
       " list,\n",
       " list,\n",
       " list,\n",
       " list,\n",
       " list,\n",
       " list,\n",
       " str,\n",
       " list,\n",
       " list,\n",
       " list,\n",
       " list,\n",
       " list,\n",
       " list,\n",
       " list,\n",
       " list,\n",
       " list,\n",
       " list,\n",
       " list,\n",
       " list,\n",
       " list,\n",
       " list,\n",
       " list,\n",
       " str,\n",
       " list,\n",
       " list,\n",
       " list,\n",
       " list,\n",
       " list,\n",
       " list,\n",
       " list,\n",
       " list,\n",
       " list,\n",
       " list,\n",
       " list,\n",
       " list,\n",
       " list,\n",
       " list,\n",
       " list,\n",
       " list,\n",
       " list,\n",
       " list,\n",
       " list,\n",
       " list,\n",
       " list,\n",
       " list,\n",
       " list,\n",
       " list,\n",
       " list,\n",
       " list,\n",
       " list]"
      ]
     },
     "execution_count": 17,
     "metadata": {},
     "output_type": "execute_result"
    }
   ],
   "source": [
    "filter(lambda t: t != tuple, map(tlz.compose(type, tlz.first), seg.segment_text(mmodel, txt, flatten=False)))"
   ]
  },
  {
   "cell_type": "code",
   "execution_count": 14,
   "metadata": {
    "collapsed": false,
    "scrolled": true
   },
   "outputs": [
    {
     "data": {
      "text/plain": [
       "[]"
      ]
     },
     "execution_count": 14,
     "metadata": {},
     "output_type": "execute_result"
    }
   ],
   "source": [
    "list(tlz.filter(lambda n: n>1, tlz.map(len, fseg.segment_text(fmodel, txt, flatten=False))))"
   ]
  },
  {
   "cell_type": "markdown",
   "metadata": {},
   "source": [
    "---"
   ]
  },
  {
   "cell_type": "code",
   "execution_count": null,
   "metadata": {
    "collapsed": true
   },
   "outputs": [],
   "source": []
  }
 ],
 "metadata": {
  "kernelspec": {
   "display_name": "Python 2",
   "language": "python",
   "name": "python2"
  },
  "language_info": {
   "codemirror_mode": {
    "name": "ipython",
    "version": 2
   },
   "file_extension": ".py",
   "mimetype": "text/x-python",
   "name": "python",
   "nbconvert_exporter": "python",
   "pygments_lexer": "ipython2",
   "version": "2.7.10"
  }
 },
 "nbformat": 4,
 "nbformat_minor": 0
}
